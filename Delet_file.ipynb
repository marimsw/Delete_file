{
  "nbformat": 4,
  "nbformat_minor": 0,
  "metadata": {
    "colab": {
      "provenance": [],
      "mount_file_id": "1wJneozam3wwRoPXaWxQQ9gezRbJQ8ZzD",
      "authorship_tag": "ABX9TyO+CSTlp+Um2degKoJPcs7w",
      "include_colab_link": true
    },
    "kernelspec": {
      "name": "python3",
      "display_name": "Python 3"
    },
    "language_info": {
      "name": "python"
    }
  },
  "cells": [
    {
      "cell_type": "markdown",
      "metadata": {
        "id": "view-in-github",
        "colab_type": "text"
      },
      "source": [
        "<a href=\"https://colab.research.google.com/github/marimsw/Delete_file/blob/delet_file/Delet_file.ipynb\" target=\"_parent\"><img src=\"https://colab.research.google.com/assets/colab-badge.svg\" alt=\"Open In Colab\"/></a>"
      ]
    },
    {
      "cell_type": "code",
      "source": [
        "import os\n",
        "\n",
        "def delete_file(file_path):\n",
        "    try:\n",
        "        # Проверяем, является ли путь файлом\n",
        "        if os.path.isfile(file_path):\n",
        "            os.remove(file_path)  # Удаляем файл\n",
        "            print(f\"Файл '{file_path}' успешно удален.\")\n",
        "        else:\n",
        "            print(f\"'{file_path}' не является файлом или не существует.\")\n",
        "    except FileNotFoundError:\n",
        "        print(f\"Ошибка: Файл '{file_path}' не найден.\")\n",
        "    except PermissionError:\n",
        "        print(f\"Ошибка: У вас нет прав для удаления файла '{file_path}'.\")\n",
        "    except Exception as e:\n",
        "        print(f\"Произошла ошибка при удалении файла '{file_path}': {e}\")\n",
        "\n",
        "# Запрашиваем путь к файлу у пользователя\n",
        "file_path = input(\"Введите путь к файлу, который вы хотите удалить: \")\n",
        "delete_file(file_path)\n"
      ],
      "metadata": {
        "colab": {
          "base_uri": "https://localhost:8080/"
        },
        "id": "XBOmpx6rWp0K",
        "outputId": "ab7d6d97-7ee9-4b0f-99d6-2b3f916b6af8"
      },
      "execution_count": null,
      "outputs": [
        {
          "output_type": "stream",
          "name": "stdout",
          "text": [
            "Введите путь к файлу, который вы хотите удалить: /content/drive/MyDrive/Rabota/1994224.jpg\n",
            "Файл '/content/drive/MyDrive/Rabota/1994224.jpg' успешно удален.\n"
          ]
        }
      ]
    },
    {
      "cell_type": "markdown",
      "source": [
        "Проверяем, существует ли файл и является ли он файлом с помощью os.path.isfile().\n",
        "+ Если файл существует, мы пытаемся его удалить с помощью os.remove().\n",
        "+ Обрабатываем различные исключения, такие как FileNotFoundError и PermissionError, а также общее исключение Exception, чтобы поймать любые другие ошибки, которые могут возникнуть."
      ],
      "metadata": {
        "id": "qQvt7iXLW1fx"
      }
    }
  ]
}