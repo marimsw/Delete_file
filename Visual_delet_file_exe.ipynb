{
  "nbformat": 4,
  "nbformat_minor": 0,
  "metadata": {
    "colab": {
      "provenance": [],
      "authorship_tag": "ABX9TyPzVylKTDYDmVAHewPcdWns",
      "include_colab_link": true
    },
    "kernelspec": {
      "name": "python3",
      "display_name": "Python 3"
    },
    "language_info": {
      "name": "python"
    }
  },
  "cells": [
    {
      "cell_type": "markdown",
      "metadata": {
        "id": "view-in-github",
        "colab_type": "text"
      },
      "source": [
        "<a href=\"https://colab.research.google.com/github/marimsw/Delete_file/blob/main/Visual_delet_file_exe.ipynb\" target=\"_parent\"><img src=\"https://colab.research.google.com/assets/colab-badge.svg\" alt=\"Open In Colab\"/></a>"
      ]
    },
    {
      "cell_type": "code",
      "execution_count": null,
      "metadata": {
        "id": "v7ok6JnZ27aH"
      },
      "outputs": [],
      "source": [
        "import os\n",
        "import tkinter as tk\n",
        "from tkinter import messagebox\n",
        "\n",
        "def delete_file():\n",
        "    file_path = entry.get()  # Получаем путь из текстового поля\n",
        "    try:\n",
        "        if os.path.isfile(file_path):\n",
        "            os.remove(file_path)  # Удаляем файл\n",
        "            messagebox.showinfo(\"Успех\", f\"Файл '{file_path}' успешно удален.\")\n",
        "        else:\n",
        "            messagebox.showwarning(\"Предупреждение\", f\"'{file_path}' не является файлом или не существует.\")\n",
        "    except FileNotFoundError:\n",
        "        messagebox.showerror(\"Ошибка\", f\"Файл '{file_path}' не найден.\")\n",
        "    except PermissionError:\n",
        "        messagebox.showerror(\"Ошибка\", f\"У вас нет прав для удаления файла '{file_path}'.\")\n",
        "    except Exception as e:\n",
        "        messagebox.showerror(\"Ошибка\", f\"Произошла ошибка при удалении файла '{file_path}': {e}\")\n",
        "\n",
        "def paste_from_clipboard(event=None):\n",
        "    try:\n",
        "        # Получаем текст из буфера обмена и вставляем его в текстовое поле\n",
        "        clipboard_content = root.clipboard_get()\n",
        "        entry.delete(0, tk.END)  # Очищаем текущее содержимое\n",
        "        entry.insert(0, clipboard_content)  # Вставляем содержимое буфера обмена\n",
        "    except tk.TclError:\n",
        "        messagebox.showwarning(\"Предупреждение\", \"Буфер обмена пуст.\")\n",
        "\n",
        "# Создаем главное окно\n",
        "root = tk.Tk()\n",
        "root.title(\"Удаление файла\")\n",
        "\n",
        "# Создаем метку с инструкцией\n",
        "instruction_label = tk.Label(root, text=\"Введите путь к файлу для удаления (или вставьте с помощью Ctrl+V):\")\n",
        "instruction_label.pack(pady=10)\n",
        "\n",
        "# Создаем текстовое поле для ввода пути к файлу\n",
        "entry = tk.Entry(root, width=50)\n",
        "entry.pack(pady=10)\n",
        "\n",
        "# Привязываем комбинацию клавиш Ctrl+V к функции вставки\n",
        "root.bind('<Control-v>', paste_from_clipboard)\n",
        "\n",
        "# Создаем кнопку для удаления файла\n",
        "delete_button = tk.Button(root, text=\"Удалить файл\", command=delete_file)\n",
        "delete_button.pack(pady=20)\n",
        "\n",
        "# Запускаем главный цикл приложения\n",
        "root.mainloop()\n"
      ]
    },
    {
      "cell_type": "markdown",
      "source": [
        "Чтобы сохранить код как exe файл выполни эти действия:\n",
        "+ Установите PyInstaller, если он еще не установлен:\n",
        "++ pip install pyinstaller\n",
        "+ Затем выполните следующую команду для создания исполняемого файла:\n",
        "++ pyinstaller --onefile --windowed Имя_файла.py"
      ],
      "metadata": {
        "id": "9qVkrSGd3WqV"
      }
    }
  ]
}